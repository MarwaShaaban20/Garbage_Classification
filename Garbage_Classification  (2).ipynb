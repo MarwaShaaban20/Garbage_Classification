{
  "nbformat": 4,
  "nbformat_minor": 0,
  "metadata": {
    "colab": {
      "provenance": [],
      "gpuType": "T4"
    },
    "kernelspec": {
      "name": "python3",
      "display_name": "Python 3"
    },
    "language_info": {
      "name": "python"
    },
    "accelerator": "GPU"
  },
  "cells": [
    {
      "cell_type": "code",
      "source": [
        "import pandas as pd\n",
        "import numpy as np\n",
        "import matplotlib.pyplot as plt\n",
        "from matplotlib.pyplot import *\n",
        "import cv2\n",
        "import os\n",
        "from sklearn.model_selection import train_test_split\n",
        "from tensorflow.keras import datasets, layers, models\n",
        "from keras.callbacks import ModelCheckpoint\n",
        "import tensorflow as tf\n",
        "\n",
        "#Allow charts and graphics to display right below the page of browser setup\n",
        "%matplotlib inline\n",
        "#paths to the train, validation and test image datasets\n",
        "train_path = '/content/drive/MyDrive/text-data/Garbage classification'\n",
        "valid_path = '/content/drive/MyDrive/text-data/Garbage classification'\n",
        "\n",
        "IMG_SIZE = 224\n",
        "IMG_SHAPE = (IMG_SIZE, IMG_SIZE, 3)\n",
        "\n",
        "from tensorflow.keras.preprocessing.image import ImageDataGenerator\n",
        "train_batches = ImageDataGenerator(\n",
        "    shear_range=0.2,\n",
        "    zoom_range=0.2,\n",
        "    width_shift_range=0.2,\n",
        "    height_shift_range=0.2,\n",
        "    validation_split=0.1).flow_from_directory(\n",
        "    directory=train_path, target_size=(IMG_SIZE,IMG_SIZE), classes=['cardboard', 'glass', 'metal', 'paper', 'plastic', 'trash'], batch_size=16, subset='training',seed=42)\n",
        "\n",
        "\n",
        "# extract images to validation set\n",
        "valid_batches = ImageDataGenerator(\n",
        "    preprocessing_function=  tf.keras.applications.inception_resnet_v2.preprocess_input  ,\n",
        "    validation_split=0.1).flow_from_directory(\n",
        "    directory=valid_path, target_size=(IMG_SIZE,IMG_SIZE), classes=['cardboard', 'glass', 'metal', 'paper', 'plastic', 'trash'], batch_size=16, subset='validation',seed=42)"
      ],
      "metadata": {
        "colab": {
          "base_uri": "https://localhost:8080/"
        },
        "id": "liv8xIGetvs-",
        "outputId": "1d685749-95a1-4730-cd98-6ecbf2fc4dc0"
      },
      "execution_count": null,
      "outputs": [
        {
          "output_type": "stream",
          "name": "stdout",
          "text": [
            "Found 2276 images belonging to 6 classes.\n",
            "Found 251 images belonging to 6 classes.\n"
          ]
        }
      ]
    },
    {
      "cell_type": "code",
      "source": [
        "# Training set\n",
        "num_train_batches = len(train_batches)\n",
        "X_train, Y_train = [], []\n",
        "\n",
        "for i in range(num_train_batches):\n",
        "    data = train_batches.next()\n",
        "    X_train.append(data[0])\n",
        "    Y_train.append(data[1])\n",
        "\n",
        "X_train = np.concatenate(X_train)\n",
        "Y_train = np.concatenate(Y_train)\n",
        "\n",
        "# Validation set\n",
        "num_valid_batches = len(valid_batches)\n",
        "X_test, Y_test = [], []\n",
        "\n",
        "for i in range(num_valid_batches):\n",
        "    data = valid_batches.next()\n",
        "    X_test.append(data[0])\n",
        "    Y_test.append(data[1])\n",
        "\n",
        "X_test = np.concatenate(X_test)\n",
        "Y_test = np.concatenate(Y_test)\n"
      ],
      "metadata": {
        "id": "Tn6_ZpLCuSge"
      },
      "execution_count": null,
      "outputs": []
    },
    {
      "cell_type": "code",
      "source": [
        "import tensorflow as tf\n",
        "base_model = tf.keras.applications.MobileNet(input_shape=(224, 224, 3),\n",
        "                                               include_top=False,\n",
        "                                               weights='imagenet')\n",
        "base_output1=base_model.get_layer('conv_pw_13_relu').output\n",
        "#inp= model_mobileNet.layers[-4].output\n",
        "out=tf.keras.layers.GlobalAveragePooling2D()(base_output1)\n",
        "model = tf.keras.models.Model(inputs=base_model.input, outputs=out)\n",
        "\n",
        "# Extract features using the pre-trained model\n",
        "X_train_features = model.predict(X_train)\n",
        "X_test_features = model.predict(X_test)"
      ],
      "metadata": {
        "colab": {
          "base_uri": "https://localhost:8080/"
        },
        "id": "VrSO25vfCmyP",
        "outputId": "984a8fa1-3887-477a-fccf-ccad71954669"
      },
      "execution_count": null,
      "outputs": [
        {
          "output_type": "stream",
          "name": "stdout",
          "text": [
            "Downloading data from https://storage.googleapis.com/tensorflow/keras-applications/mobilenet/mobilenet_1_0_224_tf_no_top.h5\n",
            "17225924/17225924 [==============================] - 0s 0us/step\n",
            "72/72 [==============================] - 5s 31ms/step\n",
            "8/8 [==============================] - 1s 138ms/step\n"
          ]
        }
      ]
    },
    {
      "cell_type": "code",
      "source": [
        "\n",
        "# Flatten the extracted features\n",
        "X_train_features = X_train_features.reshape(X_train_features.shape[0], -1)\n",
        "X_test_features = X_test_features.reshape(X_test_features.shape[0], -1)\n",
        "X_train =X_train_features\n",
        "X_test = X_test_features"
      ],
      "metadata": {
        "id": "5zAdRIEeCmvV"
      },
      "execution_count": null,
      "outputs": []
    },
    {
      "cell_type": "code",
      "source": [
        "import numpy as np\n",
        "from sklearn.datasets import make_classification\n",
        "from sklearn.model_selection import train_test_split\n",
        "from sklearn.svm import SVC\n",
        "from sklearn.metrics import accuracy_score\n"
      ],
      "metadata": {
        "id": "yyTEQeLcCmsv"
      },
      "execution_count": null,
      "outputs": []
    },
    {
      "cell_type": "code",
      "source": [
        "Y_train=np.argmax(Y_train, axis=1)\n",
        "Y_test=np.argmax(Y_test, axis=1)"
      ],
      "metadata": {
        "id": "FrH2A9c5yAq0"
      },
      "execution_count": null,
      "outputs": []
    },
    {
      "cell_type": "code",
      "source": [
        "# Train SVM classifier with selected features\n",
        "clf = SVC()\n",
        "clf.fit(X_train_features, Y_train)\n",
        "\n",
        "y_pred = clf.predict(X_train_features)\n",
        "accuracy = accuracy_score(Y_train, y_pred)\n",
        "\n",
        "print(\"Accuracy on Train Set:\", accuracy)\n",
        "# Evaluate on the test set\n",
        "y_pred = clf.predict(X_test_features)\n",
        "accuracy = accuracy_score(Y_test, y_pred)\n",
        "\n",
        "print(\"Accuracy on Test Set:\", accuracy)"
      ],
      "metadata": {
        "colab": {
          "base_uri": "https://localhost:8080/"
        },
        "id": "xIQQpFJvxy7c",
        "outputId": "c958a677-02a5-472d-bf34-d00f97b186e9"
      },
      "execution_count": null,
      "outputs": [
        {
          "output_type": "stream",
          "name": "stdout",
          "text": [
            "Accuracy on Train Set: 0.9753954305799648\n",
            "Accuracy on Test Set: 0.8645418326693227\n"
          ]
        }
      ]
    },
    {
      "cell_type": "code",
      "source": [
        "class GeneticAlgorithm:\n",
        "    def __init__(self, population_size, n_features, crossover_prob=0.8, mutation_prob=0.2, generations=5):\n",
        "        self.population_size = population_size\n",
        "        self.n_features = n_features\n",
        "        self.crossover_prob = crossover_prob\n",
        "        self.mutation_prob = mutation_prob\n",
        "        self.generations = generations\n",
        "\n",
        "    def initialize_population(self):\n",
        "        return np.random.randint(2, size=(self.population_size, self.n_features))\n",
        "\n",
        "    def evaluate_population(self, population, X_train, y_train):\n",
        "        accuracies = []\n",
        "        for solution in population:\n",
        "            selected_features = np.where(solution == 1)[0]\n",
        "            if len(selected_features) == 0:\n",
        "                accuracies.append(0.0)\n",
        "                continue\n",
        "\n",
        "            clf = SVC()\n",
        "            clf.fit(X_train[:, selected_features], y_train)\n",
        "            accuracy = accuracy_score(y_train, clf.predict(X_train[:, selected_features]))\n",
        "            accuracies.append(accuracy)\n",
        "\n",
        "        return np.array(accuracies)\n",
        "\n",
        "    def select_parents(self, population, fitness):\n",
        "        # Tournament selection\n",
        "        selected_indices = np.random.choice(self.population_size, size=(2, self.population_size), replace=True)\n",
        "        selected_parents = population[selected_indices[np.argmax(fitness[selected_indices], axis=0), np.arange(self.population_size)]]\n",
        "        return selected_parents\n",
        "\n",
        "    def crossover(self, parent1, parent2):\n",
        "        crossover_point = np.random.randint(1, self.n_features)\n",
        "        child1 = np.concatenate((parent1[:crossover_point], parent2[crossover_point:]))\n",
        "        child2 = np.concatenate((parent2[:crossover_point], parent1[crossover_point:]))\n",
        "        return child1, child2\n",
        "\n",
        "    def mutate(self, child):\n",
        "        mutation_mask = np.random.rand(self.n_features) < self.mutation_prob\n",
        "        child[mutation_mask] = 1 - child[mutation_mask]\n",
        "        return child\n",
        "\n",
        "    def run(self, X_train, y_train):\n",
        "        population = self.initialize_population()\n",
        "\n",
        "        for generation in range(self.generations):\n",
        "            fitness = self.evaluate_population(population, X_train, y_train)\n",
        "\n",
        "            parents = self.select_parents(population, fitness)\n",
        "\n",
        "            # Create offspring through crossover so we get the new population\n",
        "            offspring = []\n",
        "            for i in range(0, self.population_size, 2):\n",
        "                if np.random.rand() < self.crossover_prob:\n",
        "                    child1, child2 = self.crossover(parents[i], parents[i + 1])\n",
        "                else:\n",
        "                    child1, child2 = parents[i], parents[i + 1]\n",
        "\n",
        "                # Mutate children for the new generation\n",
        "                child1 = self.mutate(child1)\n",
        "                child2 = self.mutate(child2)\n",
        "\n",
        "                offspring.append(child1)\n",
        "                offspring.append(child2)\n",
        "\n",
        "            population[:self.population_size] = np.array(offspring)\n",
        "\n",
        "        # Select the best solution from the final population\n",
        "        final_fitness = self.evaluate_population(population, X_train, y_train)\n",
        "        best_solution = population[np.argmax(final_fitness)]\n",
        "\n",
        "        return best_solution\n",
        "\n",
        "\n",
        "population_size = 20\n",
        "ga = GeneticAlgorithm(population_size=population_size, n_features=X_train.shape[1])\n",
        "selected_features = ga.run(X_train, Y_train)\n",
        "\n",
        "# Train SVM classifier with selected features\n",
        "clf = SVC()\n",
        "clf.fit(X_train[:, selected_features == 1], Y_train)\n",
        "\n",
        "# Evaluate on the test set\n",
        "y_pred = clf.predict(X_test[:, selected_features == 1])\n",
        "accuracy = accuracy_score(Y_test, y_pred)\n",
        "\n",
        "print(\"Selected Features:\", np.where(selected_features == 1)[0])\n",
        "print(\"Accuracy on Test Set:\", accuracy)"
      ],
      "metadata": {
        "colab": {
          "base_uri": "https://localhost:8080/"
        },
        "id": "YEw13YCqCmkE",
        "outputId": "e3e5530e-d2e8-4ca3-f8e4-ae912a38fd1f"
      },
      "execution_count": null,
      "outputs": [
        {
          "output_type": "stream",
          "name": "stdout",
          "text": [
            "Selected Features: [   0    2    4    5    6    8   12   14   15   16   17   18   19   20\n",
            "   21   22   23   24   25   28   29   30   34   36   37   38   44   45\n",
            "   46   47   49   52   53   54   55   56   57   62   63   64   66   67\n",
            "   68   70   71   73   74   75   76   78   79   82   83   84   86   88\n",
            "   90   93  101  103  104  107  108  109  112  115  116  119  120  122\n",
            "  123  125  126  127  129  130  133  136  140  143  145  146  147  148\n",
            "  150  151  154  155  156  158  163  164  165  168  169  170  171  172\n",
            "  173  174  176  177  179  180  181  187  191  195  197  199  203  204\n",
            "  205  206  207  208  209  210  211  215  221  224  225  226  228  229\n",
            "  230  231  234  236  238  239  240  241  242  243  251  256  258  259\n",
            "  263  264  265  266  267  268  269  271  276  277  278  279  281  282\n",
            "  283  284  285  286  288  289  290  292  293  297  301  302  303  304\n",
            "  306  307  310  311  312  313  314  317  320  322  325  326  328  329\n",
            "  331  334  335  338  340  341  347  348  352  355  357  358  360  361\n",
            "  362  363  367  369  371  372  373  374  375  377  378  380  381  382\n",
            "  383  384  385  386  388  389  390  393  394  397  398  400  401  404\n",
            "  407  408  409  414  415  416  417  419  421  422  424  426  430  431\n",
            "  432  441  445  449  450  451  454  456  458  460  461  463  465  467\n",
            "  468  470  471  476  479  481  483  485  487  488  489  490  493  494\n",
            "  495  497  498  500  501  503  505  506  507  510  511  512  513  514\n",
            "  518  520  521  522  523  524  526  527  531  534  536  538  542  548\n",
            "  550  553  556  559  562  563  565  566  567  574  575  583  584  585\n",
            "  587  588  589  590  592  593  594  595  598  599  602  604  605  607\n",
            "  609  610  612  615  617  618  619  626  628  629  632  635  639  642\n",
            "  643  644  645  649  651  653  654  661  667  672  673  678  679  680\n",
            "  681  682  686  688  689  690  692  695  697  700  702  703  704  705\n",
            "  707  708  709  710  711  712  718  720  721  723  724  725  728  730\n",
            "  732  733  735  737  742  743  747  748  750  751  753  754  761  762\n",
            "  764  766  769  771  778  784  786  787  788  789  790  791  792  794\n",
            "  797  799  800  801  805  809  811  818  819  820  821  823  824  825\n",
            "  827  829  831  833  840  842  844  849  850  857  861  862  863  865\n",
            "  866  867  868  870  872  874  876  877  879  884  886  887  891  894\n",
            "  895  900  901  902  903  904  905  906  907  908  910  913  914  915\n",
            "  922  924  927  929  930  933  939  944  946  948  949  952  955  956\n",
            "  958  961  962  964  968  970  971  973  974  980  981  982  983  984\n",
            "  985  986  987  988  990  992  993  994  995 1000 1001 1005 1009 1010\n",
            " 1015 1016 1019 1020 1022 1023]\n",
            "Accuracy on Test Set: 0.8565737051792829\n"
          ]
        }
      ]
    },
    {
      "cell_type": "code",
      "source": [
        "X_train[:, selected_features == 1].shape"
      ],
      "metadata": {
        "colab": {
          "base_uri": "https://localhost:8080/"
        },
        "id": "cwEgwtdDDGsc",
        "outputId": "2d22f8ad-8718-4b6b-b823-9ccd431e59a1"
      },
      "execution_count": null,
      "outputs": [
        {
          "output_type": "execute_result",
          "data": {
            "text/plain": [
              "(2276, 510)"
            ]
          },
          "metadata": {},
          "execution_count": 21
        }
      ]
    },
    {
      "cell_type": "code",
      "source": [
        "y_pred_train = clf.predict(X_train[:, selected_features == 1])\n",
        "accuracy = accuracy_score(Y_train, y_pred_train)\n",
        "\n",
        "print(\"Accuracy on Train Set:\", accuracy)"
      ],
      "metadata": {
        "colab": {
          "base_uri": "https://localhost:8080/"
        },
        "id": "pCzxw4WVylkD",
        "outputId": "294c7abb-95e1-4593-f7c7-449307f67bfd"
      },
      "execution_count": null,
      "outputs": [
        {
          "output_type": "stream",
          "name": "stdout",
          "text": [
            "Accuracy on Train Set: 0.9740773286467487\n"
          ]
        }
      ]
    },
    {
      "cell_type": "code",
      "source": [
        "# Evaluate the model and print the confusion matrix\n",
        "from sklearn.metrics import confusion_matrix, precision_score, recall_score, f1_score\n",
        "\n",
        "# Compute the confusion matrix\n",
        "confusion_mat = confusion_matrix(Y_test, y_pred)\n",
        "#print(\"Confusion Matrix:\")\n",
        "print(confusion_mat)\n",
        "\n",
        "precision = precision_score(Y_test, y_pred, average='weighted')\n",
        "recall = recall_score(Y_test, y_pred, average='weighted')\n",
        "f1 = f1_score(Y_test, y_pred, average='weighted')\n",
        "\n",
        "print(\"Precision:\", precision)\n",
        "print(\"Recall:\", recall)\n",
        "print(\"F1-score:\", f1)"
      ],
      "metadata": {
        "colab": {
          "base_uri": "https://localhost:8080/"
        },
        "id": "hamEbbxLDGo4",
        "outputId": "f499378c-f8fb-4ad3-b33f-e2067ee77f5a"
      },
      "execution_count": null,
      "outputs": [
        {
          "output_type": "stream",
          "name": "stdout",
          "text": [
            "[[31  0  0  9  0  0]\n",
            " [ 0 44  2  0  4  0]\n",
            " [ 0  1 37  2  1  0]\n",
            " [ 2  0  1 56  0  0]\n",
            " [ 0  3  2  3 40  0]\n",
            " [ 0  0  2  2  2  7]]\n",
            "Precision: 0.8670371169523496\n",
            "Recall: 0.8565737051792829\n",
            "F1-score: 0.8546951406121129\n"
          ]
        }
      ]
    },
    {
      "cell_type": "code",
      "source": [
        "import seaborn as sns\n",
        "import matplotlib.pyplot as plt\n",
        "# Plot the heatmap\n",
        "cfm = np.around(confusion_matrix(Y_test, y_pred, normalize='true'), decimals=2)\n",
        "plt.figure(figsize=(10, 8))\n",
        "sns.heatmap(confusion_mat, annot=True, fmt='d', cmap='Blues',\n",
        "            xticklabels=['cardboard', 'glass', 'metal', 'paper', 'plastic', 'trash'],\n",
        "            yticklabels=['cardboard', 'glass', 'metal', 'paper', 'plastic', 'trash'])\n",
        "plt.title('Confusion Matrix')\n",
        "plt.xlabel('Predicted')\n",
        "plt.ylabel('True')\n",
        "plt.show()"
      ],
      "metadata": {
        "colab": {
          "base_uri": "https://localhost:8080/",
          "height": 718
        },
        "id": "FjsnO8swyVfP",
        "outputId": "f4133fb9-20cf-4bb6-fa3a-453067c4316d"
      },
      "execution_count": null,
      "outputs": [
        {
          "output_type": "display_data",
          "data": {
            "text/plain": [
              "<Figure size 1000x800 with 2 Axes>"
            ],
            "image/png": "[encoded data removed]"
          },
          "metadata": {}
        }
      ]
    },
    {
      "cell_type": "code",
      "source": [
        "from sklearn.metrics import classification_report\n",
        "print(classification_report(Y_test, y_pred, target_names=['cardboard', 'glass', 'metal', 'paper', 'plastic', 'trash']))"
      ],
      "metadata": {
        "colab": {
          "base_uri": "https://localhost:8080/"
        },
        "id": "2F7RAl6MyegS",
        "outputId": "acd84c9b-951d-4783-ecea-e282638e7d53"
      },
      "execution_count": null,
      "outputs": [
        {
          "output_type": "stream",
          "name": "stdout",
          "text": [
            "              precision    recall  f1-score   support\n",
            "\n",
            "   cardboard       0.94      0.78      0.85        40\n",
            "       glass       0.92      0.88      0.90        50\n",
            "       metal       0.84      0.90      0.87        41\n",
            "       paper       0.78      0.95      0.85        59\n",
            "     plastic       0.85      0.83      0.84        48\n",
            "       trash       1.00      0.54      0.70        13\n",
            "\n",
            "    accuracy                           0.86       251\n",
            "   macro avg       0.89      0.81      0.84       251\n",
            "weighted avg       0.87      0.86      0.85       251\n",
            "\n"
          ]
        }
      ]
    },
    {
      "cell_type": "markdown",
      "source": [
        "## try"
      ],
      "metadata": {
        "id": "CPODy9lVyAax"
      }
    },
    {
      "cell_type": "code",
      "source": [
        "import pandas as pd\n",
        "import numpy as np\n",
        "import matplotlib.pyplot as plt\n",
        "from matplotlib.pyplot import *\n",
        "import cv2\n",
        "import os\n",
        "from sklearn.model_selection import train_test_split\n",
        "from tensorflow.keras import datasets, layers, models\n",
        "from keras.callbacks import ModelCheckpoint\n",
        "import tensorflow as tf\n",
        "\n",
        "#Allow charts and graphics to display right below the page of browser setup\n",
        "%matplotlib inline\n",
        "#paths to the train, validation and test image datasets\n",
        "train_path = '/content/drive/MyDrive/text-data/Garbage classification'\n",
        "valid_path = '/content/drive/MyDrive/text-data/Garbage classification'\n",
        "\n",
        "IMG_SIZE = 224\n",
        "IMG_SHAPE = (IMG_SIZE, IMG_SIZE, 3)\n",
        "\n",
        "from tensorflow.keras.preprocessing.image import ImageDataGenerator\n",
        "train_batches = ImageDataGenerator(\n",
        "    shear_range=0.2,\n",
        "    zoom_range=0.2,\n",
        "    width_shift_range=0.2,\n",
        "    height_shift_range=0.2,\n",
        "    validation_split=0.1).flow_from_directory(\n",
        "    directory=train_path, target_size=(IMG_SIZE,IMG_SIZE), classes=['cardboard', 'glass', 'metal', 'paper', 'plastic', 'trash'], batch_size=16, subset='training',seed=42)\n",
        "\n",
        "\n",
        "# extract images to validation set\n",
        "valid_batches = ImageDataGenerator(\n",
        "    preprocessing_function=  tf.keras.applications.inception_resnet_v2.preprocess_input  ,\n",
        "    validation_split=0.1).flow_from_directory(\n",
        "    directory=valid_path, target_size=(IMG_SIZE,IMG_SIZE), classes=['cardboard', 'glass', 'metal', 'paper', 'plastic', 'trash'], batch_size=16, subset='validation',seed=42)"
      ],
      "metadata": {
        "id": "fp4pmjiFDGhC",
        "colab": {
          "base_uri": "https://localhost:8080/"
        },
        "outputId": "ba0ee67b-c3ca-4d89-f5a9-d88571c933e2"
      },
      "execution_count": null,
      "outputs": [
        {
          "output_type": "stream",
          "name": "stdout",
          "text": [
            "Found 2276 images belonging to 6 classes.\n",
            "Found 251 images belonging to 6 classes.\n"
          ]
        }
      ]
    },
    {
      "cell_type": "code",
      "source": [
        "# Training set\n",
        "num_train_batches = len(train_batches)\n",
        "X_train, Y_train = [], []\n",
        "\n",
        "for i in range(num_train_batches):\n",
        "    data = train_batches.next()\n",
        "    X_train.append(data[0])\n",
        "    Y_train.append(data[1])\n",
        "\n",
        "X_train = np.concatenate(X_train)\n",
        "Y_train = np.concatenate(Y_train)\n",
        "\n",
        "# Validation set\n",
        "num_valid_batches = len(valid_batches)\n",
        "X_test, Y_test = [], []\n",
        "\n",
        "for i in range(num_valid_batches):\n",
        "    data = valid_batches.next()\n",
        "    X_test.append(data[0])\n",
        "    Y_test.append(data[1])\n",
        "\n",
        "X_test = np.concatenate(X_test)\n",
        "Y_test = np.concatenate(Y_test)\n"
      ],
      "metadata": {
        "id": "FtgW-bOq6GRJ"
      },
      "execution_count": null,
      "outputs": []
    },
    {
      "cell_type": "code",
      "source": [
        "import tensorflow as tf\n",
        "base_model = tf.keras.applications.Xception(input_shape=(224, 224, 3),\n",
        "                                               include_top=False,\n",
        "                                               weights='imagenet')\n",
        "base_output1=base_model.get_layer('add_11').output\n",
        "#inp= model_mobileNet.layers[-4].output\n",
        "out=tf.keras.layers.GlobalAveragePooling2D()(base_output1)\n",
        "model = tf.keras.models.Model(inputs=base_model.input, outputs=out)\n",
        "\n",
        "# Extract features using the pre-trained model\n",
        "X_train_features = model.predict(X_train)\n",
        "X_test_features = model.predict(X_test)"
      ],
      "metadata": {
        "id": "FJceTLp3DGeY",
        "colab": {
          "base_uri": "https://localhost:8080/"
        },
        "outputId": "f3eeb8b4-507b-460d-a62f-e3ee9b1287e5"
      },
      "execution_count": null,
      "outputs": [
        {
          "output_type": "stream",
          "name": "stdout",
          "text": [
            "Downloading data from https://storage.googleapis.com/tensorflow/keras-applications/xception/xception_weights_tf_dim_ordering_tf_kernels_notop.h5\n",
            "83683744/83683744 [==============================] - 3s 0us/step\n",
            "72/72 [==============================] - 14s 127ms/step\n",
            "8/8 [==============================] - 3s 430ms/step\n"
          ]
        }
      ]
    },
    {
      "cell_type": "code",
      "source": [
        "X_train_features.shape"
      ],
      "metadata": {
        "id": "95ox_8IhDGbK",
        "colab": {
          "base_uri": "https://localhost:8080/"
        },
        "outputId": "37535fec-835e-4f57-ebb6-75dc276155f1"
      },
      "execution_count": null,
      "outputs": [
        {
          "output_type": "execute_result",
          "data": {
            "text/plain": [
              "(2276, 1024)"
            ]
          },
          "metadata": {},
          "execution_count": 6
        }
      ]
    },
    {
      "cell_type": "code",
      "source": [
        "\n",
        "# Flatten the extracted features\n",
        "X_train_features = X_train_features.reshape(X_train_features.shape[0], -1)\n",
        "X_test_features = X_test_features.reshape(X_test_features.shape[0], -1)\n",
        "X_train =X_train_features\n",
        "X_test = X_test_features"
      ],
      "metadata": {
        "id": "6KrJwRZWDGYu"
      },
      "execution_count": null,
      "outputs": []
    },
    {
      "cell_type": "code",
      "source": [
        "import numpy as np\n",
        "from sklearn.datasets import make_classification\n",
        "from sklearn.model_selection import train_test_split\n",
        "from sklearn.svm import SVC\n",
        "from sklearn.metrics import accuracy_score\n"
      ],
      "metadata": {
        "id": "ITQObw5iDGV2"
      },
      "execution_count": null,
      "outputs": []
    },
    {
      "cell_type": "code",
      "source": [
        "Y_train=np.argmax(Y_train, axis=1)\n",
        "Y_test=np.argmax(Y_test, axis=1)"
      ],
      "metadata": {
        "id": "jIcd-WHu_oG3"
      },
      "execution_count": null,
      "outputs": []
    },
    {
      "cell_type": "code",
      "source": [
        "# Train SVM classifier with selected features\n",
        "clf = SVC()\n",
        "clf.fit(X_train_features, Y_train)\n",
        "\n",
        "y_pred = clf.predict(X_train_features)\n",
        "accuracy = accuracy_score(Y_train, y_pred)\n",
        "\n",
        "print(\"Accuracy on Train Set:\", accuracy)\n",
        "# Evaluate on the test set\n",
        "y_pred = clf.predict(X_test_features)\n",
        "accuracy = accuracy_score(Y_test, y_pred)\n",
        "\n",
        "print(\"Accuracy on Test Set:\", accuracy)"
      ],
      "metadata": {
        "colab": {
          "base_uri": "https://localhost:8080/"
        },
        "id": "ONTtDMX90rjr",
        "outputId": "2ad28d8a-f805-46af-d33e-892a6102fb5e"
      },
      "execution_count": null,
      "outputs": [
        {
          "output_type": "stream",
          "name": "stdout",
          "text": [
            "Accuracy on Train Set: 0.9569420035149385\n",
            "Accuracy on Test Set: 0.8844621513944223\n"
          ]
        }
      ]
    },
    {
      "cell_type": "code",
      "source": [
        "class GeneticAlgorithm:\n",
        "    def __init__(self, population_size, n_features, crossover_prob=0.8, mutation_prob=0.2, generations=6):\n",
        "        self.population_size = population_size\n",
        "        self.n_features = n_features\n",
        "        self.crossover_prob = crossover_prob\n",
        "        self.mutation_prob = mutation_prob\n",
        "        self.generations = generations\n",
        "\n",
        "    def initialize_population(self):\n",
        "        return np.random.randint(2, size=(self.population_size, self.n_features))\n",
        "\n",
        "    def evaluate_population(self, population, X_train, y_train):\n",
        "        accuracies = []\n",
        "        for solution in population:\n",
        "            selected_features = np.where(solution == 1)[0]\n",
        "            if len(selected_features) == 0:\n",
        "                accuracies.append(0.0)\n",
        "                continue\n",
        "\n",
        "            clf = SVC()\n",
        "            clf.fit(X_train[:, selected_features], y_train)\n",
        "            accuracy = accuracy_score(y_train, clf.predict(X_train[:, selected_features]))\n",
        "            accuracies.append(accuracy)\n",
        "\n",
        "        return np.array(accuracies)\n",
        "\n",
        "    def select_parents(self, population, fitness):\n",
        "        # Tournament selection\n",
        "        selected_indices = np.random.choice(self.population_size, size=(2, self.population_size), replace=True)\n",
        "        selected_parents = population[selected_indices[np.argmax(fitness[selected_indices], axis=0), np.arange(self.population_size)]]\n",
        "        return selected_parents\n",
        "\n",
        "    def crossover(self, parent1, parent2):\n",
        "        # Single-point crossover\n",
        "        crossover_point = np.random.randint(1, self.n_features)\n",
        "        child1 = np.concatenate((parent1[:crossover_point], parent2[crossover_point:]))\n",
        "        child2 = np.concatenate((parent2[:crossover_point], parent1[crossover_point:]))\n",
        "        return child1, child2\n",
        "\n",
        "    def mutate(self, child):\n",
        "        # Bit-flip mutation\n",
        "        mutation_mask = np.random.rand(self.n_features) < self.mutation_prob\n",
        "        child[mutation_mask] = 1 - child[mutation_mask]\n",
        "        return child\n",
        "\n",
        "    def run(self, X_train, y_train):\n",
        "        population = self.initialize_population()\n",
        "\n",
        "        for generation in range(self.generations):\n",
        "            fitness = self.evaluate_population(population, X_train, y_train)\n",
        "\n",
        "            # Select parents\n",
        "            parents = self.select_parents(population, fitness)\n",
        "\n",
        "            # Create offspring through crossover so we get the new population\n",
        "            offspring = []\n",
        "            for i in range(0, self.population_size, 2):\n",
        "                if np.random.rand() < self.crossover_prob:\n",
        "                    child1, child2 = self.crossover(parents[i], parents[i + 1])\n",
        "                else:\n",
        "                    child1, child2 = parents[i], parents[i + 1]\n",
        "\n",
        "                # Mutate children for the new generation\n",
        "                child1 = self.mutate(child1)\n",
        "                child2 = self.mutate(child2)\n",
        "\n",
        "                offspring.append(child1)\n",
        "                offspring.append(child2)\n",
        "\n",
        "            population[:self.population_size] = np.array(offspring)\n",
        "\n",
        "        # Select the best solution from the final population\n",
        "        final_fitness = self.evaluate_population(population, X_train, y_train)\n",
        "        best_solution = population[np.argmax(final_fitness)]\n",
        "\n",
        "        return best_solution\n",
        "\n",
        "\n",
        "population_size = 20\n",
        "\n",
        "ga = GeneticAlgorithm(population_size=population_size, n_features=X_train.shape[1])\n",
        "selected_features = ga.run(X_train, Y_train)\n",
        "\n",
        "# Train SVM classifier with selected features\n",
        "clf = SVC()\n",
        "clf.fit(X_train[:, selected_features == 1], Y_train)\n",
        "\n",
        "# Evaluate on the test set\n",
        "y_pred = clf.predict(X_test[:, selected_features == 1])\n",
        "accuracy = accuracy_score(Y_test, y_pred)\n",
        "\n",
        "print(\"Selected Features:\", np.where(selected_features == 1)[0])\n",
        "print(\"Accuracy on Test Set:\", accuracy)"
      ],
      "metadata": {
        "id": "SDfVyXheDGTZ",
        "colab": {
          "base_uri": "https://localhost:8080/"
        },
        "outputId": "bec5ae7e-ec6f-4616-d0ff-60e30f18ad8c"
      },
      "execution_count": null,
      "outputs": [
        {
          "output_type": "stream",
          "name": "stdout",
          "text": [
            "Selected Features: [   0    1    2    5    8   10   12   14   17   19   21   23   25   27\n",
            "   30   33   34   35   36   39   40   42   46   49   51   52   53   54\n",
            "   60   61   63   66   67   68   72   78   83   89   90   91   93   97\n",
            "   99  103  104  110  112  114  115  122  123  124  125  126  128  129\n",
            "  130  134  140  141  142  149  150  151  153  157  159  163  164  165\n",
            "  166  169  172  173  178  179  180  181  183  188  190  192  194  196\n",
            "  197  199  200  204  206  209  211  215  218  219  220  221  223  228\n",
            "  230  231  232  233  234  237  238  241  244  248  249  250  251  252\n",
            "  255  256  258  261  263  264  267  274  275  276  277  279  280  281\n",
            "  283  284  286  287  288  289  290  291  296  300  301  303  304  306\n",
            "  308  309  314  315  316  318  322  323  324  325  327  329  330  333\n",
            "  334  338  339  340  341  342  344  345  346  348  350  351  352  355\n",
            "  356  358  359  361  362  363  364  367  368  370  371  372  375  376\n",
            "  380  383  386  387  388  393  394  395  396  399  400  402  405  406\n",
            "  408  410  413  414  415  416  418  420  421  424  427  428  429  433\n",
            "  435  437  438  440  442  443  446  447  450  451  452  455  456  457\n",
            "  460  463  465  468  469  472  473  480  481  482  483  484  485  487\n",
            "  489  491  492  493  497  499  500  501  506  508  509  516  520  521\n",
            "  524  526  529  531  533  535  536  537  540  549  550  552  553  556\n",
            "  557  559  560  563  564  566  567  569  570  571  572  580  581  582\n",
            "  583  584  585  586  588  590  592  596  602  605  606  608  611  612\n",
            "  613  614  617  620  621  623  624  626  628  631  634  635  639  641\n",
            "  642  643  644  645  646  647  648  650  651  655  657  658  662  667\n",
            "  673  675  676  677  679  684  685  686  688  690  691  693  694  696\n",
            "  697  698  703  705  707  708  713  716  717  718  721  723  724  727\n",
            "  728  729  731  733  736  737  741  742  743  744  747  748  754  755\n",
            "  756  760  761  765  767  768  769  771  772  777  779  780  782  786\n",
            "  787  789  792  795  796  797  799  804  805  808  809  810  811  813\n",
            "  815  818  819  821  822  826  827  830  832  834  835  836  837  842\n",
            "  844  845  849  851  854  855  856  858  859  861  862  863  864  865\n",
            "  866  868  872  876  880  883  886  888  889  890  892  893  895  896\n",
            "  897  898  899  900  901  902  903  904  905  906  907  912  915  918\n",
            "  920  921  925  927  929  934  937  938  940  941  943  948  952  953\n",
            "  954  955  958  961  962  964  966  967  968  971  972  974  975  977\n",
            "  980  985  986  987  989  990  991  993  995  997  999 1000 1002 1003\n",
            " 1004 1005 1006 1007 1009 1012 1013 1018 1023]\n",
            "Accuracy on Test Set: 0.8844621513944223\n"
          ]
        }
      ]
    },
    {
      "cell_type": "code",
      "source": [
        "X_train[:, selected_features == 1].shape"
      ],
      "metadata": {
        "id": "L2H4ErpeDGQd",
        "colab": {
          "base_uri": "https://localhost:8080/"
        },
        "outputId": "dfaabf8d-4bd5-4063-e5fe-86fd8b45b69d"
      },
      "execution_count": null,
      "outputs": [
        {
          "output_type": "execute_result",
          "data": {
            "text/plain": [
              "(2276, 499)"
            ]
          },
          "metadata": {},
          "execution_count": 15
        }
      ]
    },
    {
      "cell_type": "code",
      "source": [
        "y_pred_train = clf.predict(X_train[:, selected_features == 1])\n",
        "accuracy = accuracy_score(Y_train, y_pred_train)\n",
        "\n",
        "print(\"Accuracy on Train Set:\", accuracy)"
      ],
      "metadata": {
        "colab": {
          "base_uri": "https://localhost:8080/"
        },
        "id": "sE78fzOH0mW_",
        "outputId": "516cfcac-dfda-4ab3-b50e-486964156863"
      },
      "execution_count": null,
      "outputs": [
        {
          "output_type": "stream",
          "name": "stdout",
          "text": [
            "Accuracy on Train Set: 0.9560632688927944\n"
          ]
        }
      ]
    },
    {
      "cell_type": "code",
      "source": [
        "# Evaluate the model and print the confusion matrix\n",
        "from sklearn.metrics import confusion_matrix, precision_score, recall_score, f1_score\n",
        "\n",
        "# Compute the confusion matrix\n",
        "confusion_mat = confusion_matrix(Y_test, y_pred)\n",
        "#print(\"Confusion Matrix:\")\n",
        "print(confusion_mat)\n",
        "\n",
        "precision = precision_score(Y_test, y_pred, average='weighted')\n",
        "recall = recall_score(Y_test, y_pred, average='weighted')\n",
        "f1 = f1_score(Y_test, y_pred, average='weighted')\n",
        "\n",
        "print(\"Precision:\", precision)\n",
        "print(\"Recall:\", recall)\n",
        "print(\"F1-score:\", f1)"
      ],
      "metadata": {
        "id": "Vu4IUuaHDGNp",
        "colab": {
          "base_uri": "https://localhost:8080/"
        },
        "outputId": "003b0157-2ba0-45a8-8287-0035e7beb2f7"
      },
      "execution_count": null,
      "outputs": [
        {
          "output_type": "stream",
          "name": "stdout",
          "text": [
            "[[33  0  0  7  0  0]\n",
            " [ 0 44  1  2  3  0]\n",
            " [ 0  2 36  2  1  0]\n",
            " [ 2  1  0 56  0  0]\n",
            " [ 0  1  3  0 44  0]\n",
            " [ 0  0  2  0  2  9]]\n",
            "Precision: 0.8894179642481955\n",
            "Recall: 0.8844621513944223\n",
            "F1-score: 0.8838528810400361\n"
          ]
        }
      ]
    },
    {
      "cell_type": "code",
      "source": [
        "import seaborn as sns\n",
        "import matplotlib.pyplot as plt\n",
        "# Plot the heatmap\n",
        "cfm = np.around(confusion_matrix(Y_test, y_pred, normalize='true'), decimals=2)\n",
        "plt.figure(figsize=(10, 8))\n",
        "sns.heatmap(confusion_mat, annot=True, fmt='d', cmap='Blues',\n",
        "            xticklabels=['cardboard', 'glass', 'metal', 'paper', 'plastic', 'trash'],\n",
        "            yticklabels=['cardboard', 'glass', 'metal', 'paper', 'plastic', 'trash'])\n",
        "plt.title('Confusion Matrix')\n",
        "plt.xlabel('Predicted')\n",
        "plt.ylabel('True')\n",
        "plt.show()"
      ],
      "metadata": {
        "colab": {
          "base_uri": "https://localhost:8080/",
          "height": 718
        },
        "id": "aIAZsDMSz-Yp",
        "outputId": "51551f0f-8194-4717-a60e-50257e432266"
      },
      "execution_count": null,
      "outputs": [
        {
          "output_type": "display_data",
          "data": {
            "text/plain": [
              "<Figure size 1000x800 with 2 Axes>"
            ],
            "image/png": "[encoded data removed]"
          },
          "metadata": {}
        }
      ]
    },
    {
      "cell_type": "code",
      "source": [
        "from sklearn.metrics import classification_report\n",
        "print(classification_report(Y_test, y_pred, target_names=['cardboard', 'glass', 'metal', 'paper', 'plastic', 'trash']))"
      ],
      "metadata": {
        "colab": {
          "base_uri": "https://localhost:8080/"
        },
        "id": "zjv3OmVuz-VL",
        "outputId": "8dca81c4-53b6-4210-b5b0-d07548dd6c4a"
      },
      "execution_count": null,
      "outputs": [
        {
          "output_type": "stream",
          "name": "stdout",
          "text": [
            "              precision    recall  f1-score   support\n",
            "\n",
            "   cardboard       0.94      0.82      0.88        40\n",
            "       glass       0.92      0.88      0.90        50\n",
            "       metal       0.86      0.88      0.87        41\n",
            "       paper       0.84      0.95      0.89        59\n",
            "     plastic       0.88      0.92      0.90        48\n",
            "       trash       1.00      0.69      0.82        13\n",
            "\n",
            "    accuracy                           0.88       251\n",
            "   macro avg       0.91      0.86      0.88       251\n",
            "weighted avg       0.89      0.88      0.88       251\n",
            "\n"
          ]
        }
      ]
    }
  ]
}